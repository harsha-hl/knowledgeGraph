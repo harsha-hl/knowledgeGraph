{
 "cells": [
  {
   "cell_type": "code",
   "execution_count": 2,
   "metadata": {},
   "outputs": [],
   "source": [
    "import os \n",
    "import csv\n",
    "import networkx as nx\n",
    "g = nx.MultiGraph()\n",
    "\n",
    "transactionCount = 0\n",
    "path = os.getcwd() + \"/random_data_2.csv\"\n",
    "with open(path, encoding='utf-8-sig') as file:\n",
    "    data = csv.DictReader(file)\n",
    "    for row in data:\n",
    "        # print(row)\n",
    "        transactionCount += 1\n",
    "\n",
    "        # Weaver_id,Role,Quantity,Type,Category,border,color,season,Centre,Rating    -    Column headers\n",
    "        s = row['Type'] + \"*\" + row['Category'] + \"*\" + row['border'] + \"*\" + row['color']\n",
    "\n",
    "        try:\n",
    "            # Check if product node G[s] already exists.If yes, proceed otherwise go to except block\n",
    "            g[s]\n",
    "            # If yes, increment stock by the quantity that the weaver sold to company\n",
    "            g.nodes[s]['Stock'] += int(row['Quantity'])\n",
    "\n",
    "        except:\n",
    "            # Key error which means product node G[s] couldn't be found\n",
    "            g.add_node(s, Stock=int(row['Quantity']))\n",
    "            g.add_edges_from([(s,row['Type']),(s,row['Category']),(s,row['border']),(s,row['color'])])\n",
    "\n",
    "        # Link weaver with product with details of product as edge attributes\n",
    "        g.add_edge(row['Weaver_id'], s, w_id=row['Weaver_id'] ,quantity=row['Quantity'], month=row['season'], centre=row['Centre'], rating=row['Rating'])\n",
    "        g.add_edge(row['season'], s, w_id=row['Weaver_id'] ,quantity=row['Quantity'], month=row['season'], centre=row['Centre'], rating=row['Rating'])\n",
    "        # g.add_edge(row['Centre'], s, w_id=row['Weaver_id'] ,quantity=row['Quantity'], month=row['season'], centre=row['Centre'], rating=row['Rating'])\n",
    "        # g.add_edge(row['Rating'], s, w_id=row['Weaver_id'] ,quantity=row['Quantity'], month=row['season'], centre=row['Centre'], rating=row['Rating'])\n",
    "#         if transactionCount == 1:\n",
    "#             break\n",
    "# print(transactionCount)\n",
    "# print(g['Accessories'])\n",
    "# print(\"sds\")\n",
    "# print(g.nodes[s])\n",
    "# nx.draw(g, with_labels=True)"
   ]
  },
  {
   "cell_type": "code",
   "execution_count": 89,
   "metadata": {},
   "outputs": [],
   "source": [
    "# Using pickle to store the graph and can be later loaded into another variable 'g'\n",
    "import pickle, os\n",
    "path = os.getcwd() + \"/Graph1.txt\"\n",
    "# Uncomment below line to store graph\n",
    "pickle.dump(g, open(path, 'wb'))"
   ]
  },
  {
   "cell_type": "code",
   "execution_count": 90,
   "metadata": {},
   "outputs": [],
   "source": [
    "# By loading the graph, we may only add new transactions to existing graph\n",
    "# Uncomment below line to load teh graph\n",
    "g = pickle.load(open(path,'rb'))"
   ]
  },
  {
   "cell_type": "markdown",
   "metadata": {},
   "source": [
    "# Find the current stock of any product available with the company"
   ]
  },
  {
   "cell_type": "code",
   "execution_count": 6,
   "metadata": {},
   "outputs": [
    {
     "name": "stdout",
     "output_type": "stream",
     "text": [
      "1834\n"
     ]
    }
   ],
   "source": [
    "# Find the current stock of any product available with the company\n",
    "\n",
    "def findStock(ty=\"\",cat=\"\",bor=\"\",col=\"\"):\n",
    "    if ty==\"\" and cat==\"\" and bor==\"\" and col==\"\":\n",
    "        print(\"Atleast one attribute/filter must be specified\")\n",
    "    else:\n",
    "        count = 0\n",
    "\n",
    "        \n",
    "        if ty!=\"\":\n",
    "            d = g[ty]\n",
    "        elif cat!=\"\":\n",
    "            d = g[cat]\n",
    "        elif bor!=\"\":\n",
    "            d = g[bor]\n",
    "        else:\n",
    "            d = g[col]\n",
    "\n",
    "        for i in d.keys():\n",
    "            if str(i).find(ty) != -1 and str(i).find(cat) != -1 and str(i).find(bor) != -1 and str(i).find(col) != -1:\n",
    "                count += g.nodes[i]['Stock']\n",
    "                # print(i)\n",
    "                # print(g[i])\n",
    "        print(count)\n",
    "\n",
    "# Pass the category, type, border and color to this function to get back the available stock for that product\n",
    "\n",
    "# findStock(type, category, border, color)\n",
    "findStock(\"Accessories\",\"Bermuda\",\"Golden-Zari\",\"Blue\")"
   ]
  },
  {
   "cell_type": "code",
   "execution_count": 21,
   "metadata": {},
   "outputs": [
    {
     "name": "stdout",
     "output_type": "stream",
     "text": [
      "16324\n"
     ]
    }
   ],
   "source": [
    "# To verify that the above query is answered correctly, we can verify using the following code which performs a linear search\n",
    "# over all records and returns the stock by summing up the quantity of that transaction\n",
    "\n",
    "with open('random_data_2.csv', encoding='utf-8-sig') as file:\n",
    "    c = 0\n",
    "    data = csv.DictReader(file)\n",
    "    for row in data:\n",
    "        if row['Category'] == \"Bluse\" and row['Type'] == \"Bagru\" and row['border'] == \"Floral\" and row['color'] == \"Green\":\n",
    "            c += int(row['Quantity'])\n",
    "print(c)"
   ]
  },
  {
   "cell_type": "markdown",
   "metadata": {},
   "source": [
    "# List all transactions made between a particular weaver and the company."
   ]
  },
  {
   "cell_type": "code",
   "execution_count": 22,
   "metadata": {},
   "outputs": [
    {
     "name": "stdout",
     "output_type": "stream",
     "text": [
      "{0: {'w_id': '2200003', 'quantity': '5', 'month': 'April', 'centre': 'Mumbai', 'rating': '4s'}}\n",
      "{0: {'w_id': '2200003', 'quantity': '7', 'month': 'October', 'centre': 'Mumbai', 'rating': '5s'}}\n",
      "{0: {'w_id': '2200003', 'quantity': '7', 'month': 'November', 'centre': 'Hyderabad', 'rating': '2s'}}\n",
      "{0: {'w_id': '2200003', 'quantity': '6', 'month': 'October', 'centre': 'Mumbai', 'rating': '2s'}}\n",
      "{0: {'w_id': '2200003', 'quantity': '2', 'month': 'March', 'centre': 'Hyderabad', 'rating': '3s'}}\n",
      "{0: {'w_id': '2200003', 'quantity': '10', 'month': 'November', 'centre': 'Hyderabad', 'rating': '4s'}}\n",
      "{0: {'w_id': '2200003', 'quantity': '10', 'month': 'September', 'centre': 'Hyderabad', 'rating': '2s'}}\n",
      "Number of transactions made by weaver with id 2200003 is :  7\n"
     ]
    },
    {
     "data": {
      "image/png": "[encoded data removed]",
      "text/plain": [
       "<Figure size 432x288 with 1 Axes>"
      ]
     },
     "metadata": {},
     "output_type": "display_data"
    }
   ],
   "source": [
    "# List all transactions made between a particular weaver and the company.\n",
    "P = nx.MultiGraph()\n",
    "def a(id):\n",
    "    count = 0\n",
    "    for i in g[id].keys():\n",
    "        count += 1\n",
    "        print(g[id][i])\n",
    "        l = str(i).split(\"*\")\n",
    "        P.add_edges_from([(id,i),(i,l[0]),(i,l[1]),(i,l[2]),(i,l[3])])\n",
    "    print(\"Number of transactions made by weaver with id\",id,\"is : \",count)\n",
    "\n",
    "# Pass any weaver id to get the list of transactions between them and the company        \n",
    "a(\"2200003\")\n",
    "\n",
    "# Plots the subgraph used to answer this query\n",
    "nx.draw(P,with_labels=True)\n"
   ]
  },
  {
   "cell_type": "markdown",
   "metadata": {},
   "source": [
    "# Fetch transaction details based on month / center / rating of product."
   ]
  },
  {
   "cell_type": "code",
   "execution_count": 151,
   "metadata": {},
   "outputs": [
    {
     "name": "stdout",
     "output_type": "stream",
     "text": [
      "NO\n",
      "167040\n"
     ]
    }
   ],
   "source": [
    "def transactions(months, centres, ratings, wids):\n",
    "    count = 0\n",
    "\n",
    "    if wids:\n",
    "        print(\"Yess\")\n",
    "        for wid in wids:\n",
    "            for pdt in g[wid].keys():\n",
    "                for index in g[wid][pdt].keys():\n",
    "                    transaction = g[wid][pdt][index].copy()\n",
    "                    if transaction['w_month'] in months and transaction['w_centre'] in centres and transaction['w_rating'] in ratings:\n",
    "                        transaction['pdt'] = pdt\n",
    "                        count += 1\n",
    "\n",
    "    else:\n",
    "        print(\"NO\")\n",
    "        for mon in months:\n",
    "            # print(g[mon])\n",
    "            for pdt in g[mon].keys():\n",
    "                # print(pdt)\n",
    "                for index in g[mon][pdt].keys():\n",
    "                    transaction = g[mon][pdt][index].copy()\n",
    "                    try:\n",
    "                        transaction['w_centre']\n",
    "                        if transaction['w_centre'] in centres and transaction['w_rating'] in ratings:\n",
    "                            transaction['pdt'] = pdt\n",
    "                    except:\n",
    "                        if transaction['r_centre'] in centres and transaction['r_rating'] in ratings:\n",
    "                            transaction['pdt'] = pdt\n",
    "                        # print(g[mon][pdt][index])\n",
    "                    count += 1\n",
    "\n",
    "    print(count)\n",
    "\n",
    "    \n",
    "transactions([\"January\"],[\"Bangalore\"],[\"1s\"],[])\n",
    "# 141\n"
   ]
  },
  {
   "cell_type": "code",
   "execution_count": 1,
   "metadata": {},
   "outputs": [
    {
     "name": "stdout",
     "output_type": "stream",
     "text": [
      "{'wrf': 43, 'asssa': 33, 'rwrw': 22, 'qqq': 20, 'erer': 5}\n",
      "['wrf', 'asssa', 'rwrw', 'qqq']\n",
      "30\n"
     ]
    }
   ],
   "source": [
    "top={\n",
    "    'wid':[],\n",
    "    'q_wid':[],\n",
    "    'pdt':[],\n",
    "    'q_pdt':[]\n",
    "}\n",
    "x={'wrf':43, 'rwrw':22, 'asssa':33, 'erer': 5, 'qqq': 20}\n",
    "x={k: v for k, v in sorted(x.items(), key=lambda item: item[1], reverse=True)}\n",
    "print(x)\n",
    "top['wid'] =  (list(x.keys()))[:4]\n",
    "print(top['wid'])\n",
    "try:\n",
    "    x['qqq'] += 10\n",
    "    print(x['qqq'])\n",
    "except:\n",
    "    x['qqq'] = 10\n",
    "    print(x['qqq'])\n"
   ]
  },
  {
   "cell_type": "code",
   "execution_count": 21,
   "metadata": {},
   "outputs": [
    {
     "name": "stdout",
     "output_type": "stream",
     "text": [
      "[2, [{'Accessories*Bermuda*Golden-Zari*Red': 1808}, {'Accessories*Bermuda*Golden-Zari*Blue': 1834}], 3642]\n"
     ]
    },
    {
     "ename": "TypeError",
     "evalue": "'DictReader' object is not subscriptable",
     "output_type": "error",
     "traceback": [
      "\u001b[0;31m---------------------------------------------------------------------------\u001b[0m",
      "\u001b[0;31mTypeError\u001b[0m                                 Traceback (most recent call last)",
      "\u001b[1;32m/Users/harshahl/Documents/knowledgeGraph/django/myworld/members/graph.ipynb Cell 12'\u001b[0m in \u001b[0;36m<cell line: 18>\u001b[0;34m()\u001b[0m\n\u001b[1;32m     <a href='vscode-notebook-cell:/Users/harshahl/Documents/knowledgeGraph/django/myworld/members/graph.ipynb#ch0000012?line=15'>16</a>\u001b[0m     \u001b[39mreturn\u001b[39;00m data\n\u001b[1;32m     <a href='vscode-notebook-cell:/Users/harshahl/Documents/knowledgeGraph/django/myworld/members/graph.ipynb#ch0000012?line=16'>17</a>\u001b[0m \u001b[39mprint\u001b[39m(products([\u001b[39m\"\u001b[39m\u001b[39mAccessories\u001b[39m\u001b[39m\"\u001b[39m],[\u001b[39m\"\u001b[39m\u001b[39mBermuda\u001b[39m\u001b[39m\"\u001b[39m],[\u001b[39m\"\u001b[39m\u001b[39mGolden-Zari\u001b[39m\u001b[39m\"\u001b[39m],[\u001b[39m\"\u001b[39m\u001b[39mBlue\u001b[39m\u001b[39m\"\u001b[39m, \u001b[39m\"\u001b[39m\u001b[39mRed\u001b[39m\u001b[39m\"\u001b[39m]))\n\u001b[0;32m---> <a href='vscode-notebook-cell:/Users/harshahl/Documents/knowledgeGraph/django/myworld/members/graph.ipynb#ch0000012?line=17'>18</a>\u001b[0m \u001b[39mprint\u001b[39m(data[\u001b[39m2\u001b[39;49m])\n",
      "\u001b[0;31mTypeError\u001b[0m: 'DictReader' object is not subscriptable"
     ]
    }
   ],
   "source": [
    "def products(types,categories,borders,colors):\n",
    "    data=[0,[], 0]\n",
    "    for type in types:\n",
    "        for product in g[type].keys():\n",
    "            names=product.split('*')\n",
    "            for item4 in categories:\n",
    "                if names[1]==item4:\n",
    "                    for item5 in borders:\n",
    "                        if names[2]==item5:\n",
    "                            for item6 in colors:\n",
    "                                if names[3]==item6:\n",
    "                                    temp={product : g.nodes[product]['Stock']}\n",
    "                                    data[0]+=1\n",
    "                                    data[1].append(temp)\n",
    "                                    data[2]+= g.nodes[product]['Stock']\n",
    "    return data\n",
    "print(products([\"Accessories\"],[\"Bermuda\"],[\"Golden-Zari\"],[\"Blue\", \"Red\"]))\n",
    "print(data[2])"
   ]
  },
  {
   "cell_type": "markdown",
   "metadata": {},
   "source": [
    "# AFTER MOM 4"
   ]
  },
  {
   "cell_type": "code",
   "execution_count": 1,
   "metadata": {},
   "outputs": [
    {
     "data": {
      "image/png": "[encoded data removed]",
      "text/plain": [
       "<Figure size 432x288 with 1 Axes>"
      ]
     },
     "metadata": {},
     "output_type": "display_data"
    }
   ],
   "source": [
    "#Weavers\n",
    "import os \n",
    "import csv\n",
    "import networkx as nx\n",
    "g = nx.MultiGraph()\n",
    "\n",
    "transactionCount = 0\n",
    "path = os.getcwd() + \"/weaverdata.csv\"\n",
    "with open(path, encoding='utf-8-sig') as file:\n",
    "    data = csv.DictReader(file)\n",
    "    for row in data:\n",
    "        # print(row)\n",
    "        transactionCount += 1\n",
    "        if transactionCount == 3:\n",
    "            break\n",
    "        # Weaver_id,Role,Quantity,Type,Category,border,color,season,Centre,Rating    -    Column headers\n",
    "        s = row['Type'] + \"*\" + row['Category'] + \"*\" + row['Border'] + \"*\" + row['Color']\n",
    "\n",
    "        try:\n",
    "            # Check if product node G[s] already exists.If yes, proceed otherwise go to except block\n",
    "            g[s]\n",
    "            # If yes, increment stock by the quantity that the weaver sold to company\n",
    "            g.nodes[s]['Stock'] += int(row['Quantity'])\n",
    "\n",
    "        except:\n",
    "            # Key error which means product node G[s] couldn't be found\n",
    "            g.add_node(s, Stock=int(row['Quantity']))\n",
    "            g.add_edges_from([(s,row['Type']),(s,row['Category']),(s,row['Border']),(s,row['Color'])])\n",
    "\n",
    "        # Link weaver with product with details of product as edge attributes\n",
    "        g.add_edge(row['Weaver_id'], s, w_id=row['Weaver_id'] ,w_quantity=row['Quantity'], w_month=row['Month'], w_year=row['Year'], w_region=row['Region'], w_centre=row['Centre'], w_rating=row['Rating'],w_cost=row['Cost'], relation='SoldBy')\n",
    "        g.add_edge(row['Month'], s, w_id=row['Weaver_id'] ,w_quantity=row['Quantity'], w_month=row['Month'], w_year=row['Year'], w_region=row['Region'], w_centre=row['Centre'], w_rating=row['Rating'],w_cost=row['Cost'], relation='SoldIn')\n",
    "\n",
    "nx.draw(g, with_labels=True)\n",
    "# print(g)"
   ]
  },
  {
   "cell_type": "code",
   "execution_count": 144,
   "metadata": {},
   "outputs": [],
   "source": [
    "# Retailers\n",
    "transactionCount = 0\n",
    "path = os.getcwd() + \"/NewData.csv\"\n",
    "with open(path, encoding='utf-8-sig') as file:\n",
    "    data = csv.DictReader(file)\n",
    "    for row in data:\n",
    "        # print(row)\n",
    "        transactionCount += 1\n",
    "        # if transactionCount == 1001:\n",
    "        #     break\n",
    "        # Weaver_id,Role,Quantity,Type,Category,border,color,season,Centre,Rating    -    Column headers\n",
    "        s = row['Type'] + \"*\" + row['Category'] + \"*\" + row['Border'] + \"*\" + row['Color']\n",
    "\n",
    "        try:\n",
    "            # Check if product node G[s] already exists.If yes, proceed otherwise go to except block\n",
    "            g[s]\n",
    "            # If yes, increment stock by the quantity that the weaver sold to company\n",
    "            g.nodes[s]['Stock'] -= int(row['Quantity'])\n",
    "\n",
    "        except:\n",
    "            # Key error which means product node G[s] couldn't be found\n",
    "            g.add_node(s, Stock= -int(row['Quantity']))\n",
    "            # g.add_edges_from([(s,row['Type']),(s,row['Category']),(s,row['Border']),(s,row['Color'])])\n",
    "\n",
    "        # Link weaver with product with details of product as edge attributes\n",
    "        g.add_edge(row['Retailer_id'], s, r_id=row['Retailer_id'] ,r_quantity=row['Quantity'], r_r_month=row['Month'], r_year=row['Year'], r_region=row['Region'], r_centre=row['Centre'], r_rating=row['Rating'],r_cost=row['Cost'], relation='BoughtBy')\n",
    "        g.add_edge(row['Month'], s, r_id=row['Retailer_id'] ,r_quantity=row['Quantity'], r_month=row['Month'], r_year=row['Year'], r_region=row['Region'], r_centre=row['Centre'], r_rating=row['Rating'],r_cost=row['Cost'],relation='BoughtIn')\n",
    "\n",
    "# nx.draw(g, with_labels=True)\n",
    "# print(g)"
   ]
  },
  {
   "cell_type": "code",
   "execution_count": 145,
   "metadata": {},
   "outputs": [],
   "source": [
    "import pickle, os\n",
    "path = os.getcwd() + \"/Graph1.txt\"\n",
    "# Uncomment below line to store graph\n",
    "pickle.dump(g, open(path, 'wb'))"
   ]
  },
  {
   "cell_type": "code",
   "execution_count": 146,
   "metadata": {},
   "outputs": [],
   "source": [
    "g = pickle.load(open(path,'rb'))"
   ]
  },
  {
   "cell_type": "code",
   "execution_count": 229,
   "metadata": {},
   "outputs": [
    {
     "name": "stdout",
     "output_type": "stream",
     "text": [
      "[39, [{'w_id': '2221912', 'w_quantity': '3', 'w_month': 'November', 'w_year': '2014', 'w_region': 'South', 'w_centre': 'Hyderabad', 'w_rating': '5', 'w_cost': '1376', 'relation': 'SoldBy', 'pdt': 'Cotton tant*Crochet Lace*Lines*Green'}, {'w_id': '2221912', 'w_quantity': '4', 'w_month': 'December', 'w_year': '2011', 'w_region': 'North', 'w_centre': 'Agra', 'w_rating': '1', 'w_cost': '1322', 'relation': 'SoldBy', 'pdt': 'Accessories*Beads*Floral*Violet'}, {'w_id': '2221912', 'w_quantity': '2', 'w_month': 'July', 'w_year': '2012', 'w_region': 'South', 'w_centre': 'Chennai', 'w_rating': '2', 'w_cost': '1298', 'relation': 'SoldBy', 'pdt': 'Bagru*Fusing*Golden Zari*Indigo'}, {'w_id': '2221912', 'w_quantity': '6', 'w_month': 'September', 'w_year': '2013', 'w_region': 'West', 'w_centre': 'Ahmedabad', 'w_rating': '4', 'w_cost': '1113', 'relation': 'SoldBy', 'pdt': 'Cotton tant*Cutting Roll*Golden Zari*Green'}, {'w_id': '2221912', 'w_quantity': '1', 'w_month': 'October', 'w_year': '2011', 'w_region': 'West', 'w_centre': 'Ahmedabad', 'w_rating': '1', 'w_cost': '1442', 'relation': 'SoldBy', 'pdt': 'Accessories*Shorts*Checks*Red'}, {'w_id': '2221912', 'w_quantity': '8', 'w_month': 'December', 'w_year': '2013', 'w_region': 'East', 'w_centre': 'Patna', 'w_rating': '4', 'w_cost': '1129', 'relation': 'SoldBy', 'pdt': 'Chanderi cotton*Fabric*Floral*Green'}, {'w_id': '2221912', 'w_quantity': '3', 'w_month': 'November', 'w_year': '2010', 'w_region': 'North', 'w_centre': 'Agra', 'w_rating': '3', 'w_cost': '1319', 'relation': 'SoldBy', 'pdt': 'Chanderi cotton*Bermuda*Golden Zari*Orange'}, {'w_id': '2221912', 'w_quantity': '6', 'w_month': 'October', 'w_year': '2010', 'w_region': 'West', 'w_centre': 'Ahmedabad', 'w_rating': '2', 'w_cost': '1226', 'relation': 'SoldBy', 'pdt': 'Bagru*Shorts*Checks*Yellow'}, {'w_id': '2221912', 'w_quantity': '7', 'w_month': 'April', 'w_year': '2012', 'w_region': 'South', 'w_centre': 'Bangalore', 'w_rating': '2', 'w_cost': '1095', 'relation': 'SoldBy', 'pdt': 'Bagru*Beads*Floral*Green'}, {'w_id': '2221912', 'w_quantity': '1', 'w_month': 'March', 'w_year': '2013', 'w_region': 'East', 'w_centre': 'Ranchi', 'w_rating': '3', 'w_cost': '1291', 'relation': 'SoldBy', 'pdt': 'Art silk*Girls Womens suit*Lines*Yellow'}, {'w_id': '2221912', 'w_quantity': '2', 'w_month': 'November', 'w_year': '2013', 'w_region': 'West', 'w_centre': 'Mumbai', 'w_rating': '2', 'w_cost': '1231', 'relation': 'SoldBy', 'pdt': 'Cotton voile*Fabric*Golden Zari*Red'}, {'w_id': '2245035', 'w_quantity': '6', 'w_month': 'June', 'w_year': '2012', 'w_region': 'East', 'w_centre': 'Kolkata', 'w_rating': '4', 'w_cost': '1363', 'relation': 'SoldBy', 'pdt': 'Bagru*Bedsheet*Checks*Violet'}, {'w_id': '2245035', 'w_quantity': '6', 'w_month': 'June', 'w_year': '2014', 'w_region': 'North', 'w_centre': 'Lucknow', 'w_rating': '4', 'w_cost': '1026', 'relation': 'SoldBy', 'pdt': 'Cotton voile*Blouse*Floral*Red'}, {'w_id': '2245035', 'w_quantity': '8', 'w_month': 'November', 'w_year': '2012', 'w_region': 'South', 'w_centre': 'Hyderabad', 'w_rating': '4', 'w_cost': '1098', 'relation': 'SoldBy', 'pdt': 'Art silk*Blouse*Golden Zari*Green'}, {'w_id': '2245035', 'w_quantity': '4', 'w_month': 'December', 'w_year': '2013', 'w_region': 'East', 'w_centre': 'Patna', 'w_rating': '2', 'w_cost': '1248', 'relation': 'SoldBy', 'pdt': 'Bagru*Fusing*Checks*Red'}, {'w_id': '2245035', 'w_quantity': '2', 'w_month': 'November', 'w_year': '2010', 'w_region': 'West', 'w_centre': 'Jaipur', 'w_rating': '3', 'w_cost': '1088', 'relation': 'SoldBy', 'pdt': 'Accessories*Girls Womens suit*Checks*Violet'}, {'w_id': '2245035', 'w_quantity': '5', 'w_month': 'May', 'w_year': '2011', 'w_region': 'North', 'w_centre': 'Lucknow', 'w_rating': '4', 'w_cost': '1346', 'relation': 'SoldBy', 'pdt': 'Art silk*Beads*Floral*Indigo'}, {'w_id': '2245035', 'w_quantity': '8', 'w_month': 'December', 'w_year': '2012', 'w_region': 'West', 'w_centre': 'Ahmedabad', 'w_rating': '5', 'w_cost': '1360', 'relation': 'SoldBy', 'pdt': 'Art silk*Blouse*Lines*Orange'}, {'w_id': '2268299', 'w_quantity': '9', 'w_month': 'October', 'w_year': '2013', 'w_region': 'East', 'w_centre': 'Kolkata', 'w_rating': '5', 'w_cost': '1022', 'relation': 'SoldBy', 'pdt': 'Banarasi*Cutting Roll*Checks*Yellow'}, {'w_id': '2268299', 'w_quantity': '1', 'w_month': 'June', 'w_year': '2013', 'w_region': 'West', 'w_centre': 'Mumbai', 'w_rating': '1', 'w_cost': '1423', 'relation': 'SoldBy', 'pdt': 'Banarasi*Bermuda*Golden Zari*Yellow'}, {'w_id': '2268299', 'w_quantity': '6', 'w_month': 'July', 'w_year': '2010', 'w_region': 'East', 'w_centre': 'Ranchi', 'w_rating': '4', 'w_cost': '1079', 'relation': 'SoldBy', 'pdt': 'Banarasi*Fabric*Lines*Indigo'}, {'w_id': '2268299', 'w_quantity': '8', 'w_month': 'June', 'w_year': '2014', 'w_region': 'East', 'w_centre': 'Kolkata', 'w_rating': '2', 'w_cost': '1247', 'relation': 'SoldBy', 'pdt': 'Cotton linen*Blouse*Floral*Green'}, {'w_id': '2268299', 'w_quantity': '7', 'w_month': 'September', 'w_year': '2011', 'w_region': 'East', 'w_centre': 'Kolkata', 'w_rating': '2', 'w_cost': '1379', 'relation': 'SoldBy', 'pdt': 'Accessories*Bedsheet*Checks*Indigo'}, {'w_id': '2268299', 'w_quantity': '1', 'w_month': 'February', 'w_year': '2013', 'w_region': 'North', 'w_centre': 'Agra', 'w_rating': '3', 'w_cost': '1465', 'relation': 'SoldBy', 'pdt': 'Banarasi*Girls Womens suit*Lines*Red'}, {'w_id': '2268299', 'w_quantity': '2', 'w_month': 'December', 'w_year': '2011', 'w_region': 'West', 'w_centre': 'Jaipur', 'w_rating': '4', 'w_cost': '1070', 'relation': 'SoldBy', 'pdt': 'Cotton voile*Chiffon*Lines*Red'}, {'w_id': '2268299', 'w_quantity': '4', 'w_month': 'June', 'w_year': '2010', 'w_region': 'North', 'w_centre': 'Lucknow', 'w_rating': '4', 'w_cost': '1157', 'relation': 'SoldBy', 'pdt': 'Art silk*AC Blanket(DOHAR)*Checks*Violet'}, {'w_id': '2268299', 'w_quantity': '5', 'w_month': 'August', 'w_year': '2013', 'w_region': 'South', 'w_centre': 'Chennai', 'w_rating': '5', 'w_cost': '1043', 'relation': 'SoldBy', 'pdt': 'Cotton voile*Shorts*Golden Zari*Indigo'}, {'w_id': '2268299', 'w_quantity': '8', 'w_month': 'May', 'w_year': '2012', 'w_region': 'North', 'w_centre': 'Delhi', 'w_rating': '2', 'w_cost': '1265', 'relation': 'SoldBy', 'pdt': 'Accessories*Blouse*Checks*Indigo'}, {'w_id': '2268299', 'w_quantity': '5', 'w_month': 'June', 'w_year': '2013', 'w_region': 'North', 'w_centre': 'Delhi', 'w_rating': '2', 'w_cost': '1430', 'relation': 'SoldBy', 'pdt': 'Accessories*Chiffon*Lines*Orange'}, {'w_id': '2296138', 'w_quantity': '9', 'w_month': 'May', 'w_year': '2013', 'w_region': 'North', 'w_centre': 'Delhi', 'w_rating': '4', 'w_cost': '1416', 'relation': 'SoldBy', 'pdt': 'Cotton voile*Shorts*Floral*Yellow'}, {'w_id': '2296138', 'w_quantity': '1', 'w_month': 'August', 'w_year': '2014', 'w_region': 'West', 'w_centre': 'Mumbai', 'w_rating': '5', 'w_cost': '1038', 'relation': 'SoldBy', 'pdt': 'Cotton tant*Bedsheet*Floral*Violet'}, {'w_id': '2296138', 'w_quantity': '7', 'w_month': 'April', 'w_year': '2011', 'w_region': 'West', 'w_centre': 'Jaipur', 'w_rating': '1', 'w_cost': '1460', 'relation': 'SoldBy', 'pdt': 'Bhagalpuri*Bedsheet*Checks*Yellow'}, {'w_id': '2296138', 'w_quantity': '3', 'w_month': 'November', 'w_year': '2014', 'w_region': 'East', 'w_centre': 'Ranchi', 'w_rating': '3', 'w_cost': '1185', 'relation': 'SoldBy', 'pdt': 'Chanderi cotton*Bermuda*Golden Zari*Violet'}, {'w_id': '2296138', 'w_quantity': '3', 'w_month': 'October', 'w_year': '2010', 'w_region': 'West', 'w_centre': 'Mumbai', 'w_rating': '1', 'w_cost': '1153', 'relation': 'SoldBy', 'pdt': 'Chanderi cotton*Fabric*Golden Zari*Blue'}, {'w_id': '2296138', 'w_quantity': '3', 'w_month': 'February', 'w_year': '2014', 'w_region': 'West', 'w_centre': 'Mumbai', 'w_rating': '3', 'w_cost': '1483', 'relation': 'SoldBy', 'pdt': 'Cotton tant*Bermuda*Lines*Green'}, {'w_id': '2296138', 'w_quantity': '2', 'w_month': 'August', 'w_year': '2012', 'w_region': 'West', 'w_centre': 'Jaipur', 'w_rating': '4', 'w_cost': '1438', 'relation': 'SoldBy', 'pdt': 'Cotton linen*Bermuda*Golden Zari*Yellow'}, {'w_id': '2296138', 'w_quantity': '6', 'w_month': 'June', 'w_year': '2012', 'w_region': 'South', 'w_centre': 'Chennai', 'w_rating': '2', 'w_cost': '1489', 'relation': 'SoldBy', 'pdt': 'Cotton tant*Crochet Lace*Golden Zari*Red'}, {'w_id': '2296138', 'w_quantity': '4', 'w_month': 'October', 'w_year': '2010', 'w_region': 'South', 'w_centre': 'Hyderabad', 'w_rating': '3', 'w_cost': '1500', 'relation': 'SoldBy', 'pdt': 'Bagru*Bermuda*Lines*Blue'}, {'w_id': '2296138', 'w_quantity': '7', 'w_month': 'December', 'w_year': '2010', 'w_region': 'West', 'w_centre': 'Ahmedabad', 'w_rating': '4', 'w_cost': '1297', 'relation': 'SoldBy', 'pdt': 'Bhagalpuri*AC Blanket(DOHAR)*Floral*Blue'}]]\n"
     ]
    }
   ],
   "source": [
    "                            \n",
    "def transactions(months, centres, ratings, wids):\n",
    "    global g\n",
    "    data = [0, []]\n",
    "    if wids:\n",
    "        for wid in wids:\n",
    "            for pdt in g[wid].keys():\n",
    "                for index in g[wid][pdt].keys():\n",
    "                    transaction = g[wid][pdt][index].copy()\n",
    "                    # print(transaction)\n",
    "                    if transaction['w_month'] in months and transaction['w_centre'] in centres and transaction['w_rating'] in ratings:\n",
    "                        transaction['pdt'] = pdt\n",
    "                        data[1].append(transaction)\n",
    "                        data[0] += 1\n",
    "\n",
    "    else:\n",
    "        for mon in months:\n",
    "            for pdt in g[mon].keys():\n",
    "                for index in g[mon][pdt].keys():\n",
    "                    transaction = g[mon][pdt][index].copy()\n",
    "                    try:\n",
    "                        if transaction['w_centre'] in centres and transaction['w_rating'] in ratings:\n",
    "                            transaction['pdt'] = pdt\n",
    "                            data[1].append(transaction)\n",
    "                            data[0] += 1\n",
    "                    except:\n",
    "                        pass\n",
    "    return data\n",
    "print(transactions([\"January\", \"February\", \"March\", \"April\", \"May\", \"June\", \"July\", \"August\", \"September\", \"October\", \"November\", \"December\"],[\"Bangalore\", \"Hyderabad\", \"Mumbai\", \"Agra\", \"Delhi\", \"Chennai\", \"Kolkata\", \"Ahmedabad\", \"Patna\", \"Lucknow\", \"Jaipur\", \"Ranchi\"],['1','2','3','4','5'],['2221912','2245035','2268299','2296138']))"
   ]
  },
  {
   "cell_type": "code",
   "execution_count": 121,
   "metadata": {},
   "outputs": [],
   "source": [
    "def newfun(role,filter,filter2,centre,month,year):\n",
    "    dict1={}\n",
    "    dict2={}\n",
    "    dict3={}\n",
    "    list1=[0,0,[]]\n",
    "    list2=[0,0,[]]\n",
    "    data=[0,0,[]]\n",
    "    if filter=='Type':\n",
    "        q=0\n",
    "    elif filter=='Category':\n",
    "        q=1\n",
    "    elif filter=='Border':\n",
    "        q=2\n",
    "    elif filter=='Color':\n",
    "        q=3\n",
    "\n",
    "    if filter2=='month':\n",
    "        var1='w_month'\n",
    "        var2='r_month'\n",
    "        var3=month\n",
    "        data[0]=1\n",
    "    elif filter2=='centre':\n",
    "        var1='w_centre'\n",
    "        var2='r_centre'\n",
    "        var3=centre\n",
    "        data[0]=0\n",
    "    elif filter2=='year':\n",
    "        var1='w_year'\n",
    "        var2='r_year'\n",
    "        var3=year\n",
    "        data[0]=2\n",
    "    \n",
    "    for elements in var3:\n",
    "        tup={elements : {}}\n",
    "        dict1.update(tup)\n",
    "    for elements in var3:\n",
    "        tup={elements : {}}\n",
    "        dict2.update(tup)\n",
    "    for elements in var3:\n",
    "        tup={elements : 0}\n",
    "        dict3.update(tup)\n",
    "    \n",
    "\n",
    "    \n",
    "    for item in month:\n",
    "        for item2 in g[item].keys():\n",
    "            for item3 in g[item][item2].keys():\n",
    "                if role=='Weaver':\n",
    "                    if g[item][item2][item3]['relation']=='SoldIn' and g[item][item2][item3]['w_centre'] in centre and g[item][item2][item3]['w_year'] in year:\n",
    "                        data[1]+=1\n",
    "                        temp=item2.split('*')\n",
    "                        dict3[g[item][item2][item3][var1]]+=1\n",
    "                        if temp[q] in dict1[g[item][item2][item3][var1]].keys():\n",
    "                            dict1[g[item][item2][item3][var1]][temp[q]]+=1\n",
    "                            dict2[g[item][item2][item3][var1]][temp[q]]+=int(g[item][item2][item3]['w_quantity'])\n",
    "                        else:\n",
    "                            temp3={temp[q] : 1}\n",
    "                            dict1[g[item][item2][item3][var1]].update(temp3)\n",
    "                            temp3={temp[q] : int(g[item][item2][item3]['w_quantity'])}\n",
    "                            dict2[g[item][item2][item3][var1]].update(temp3)\n",
    "                elif role=='Retailer':\n",
    "                    if g[item][item2][item3]['relation']=='BoughtIn' and g[item][item2][item3]['r_centre'] in centre and g[item][item2][item3]['r_year'] in year:\n",
    "                        data[1]+=1\n",
    "                        temp=item2.split('*')\n",
    "                        dict3[g[item][item2][item3][var2]]+=1\n",
    "                        if temp[q] in dict1[g[item][item2][item3][var2]].keys():\n",
    "                            dict1[g[item][item2][item3][var2]][temp[q]]+=1\n",
    "                            dict2[g[item][item2][item3][var2]][temp[q]]+=int(g[item][item2][item3]['r_quantity'])\n",
    "                        else:\n",
    "                            temp3={temp[q] : 1}\n",
    "                            dict1[g[item][item2][item3][var2]].update(temp3)\n",
    "                            temp3={temp[q] : int(g[item][item2][item3]['r_quantity'])}\n",
    "                            dict2[g[item][item2][item3][var2]].update(temp3)\n",
    "            \n",
    "               \n",
    "    for i in dict1.keys():\n",
    "        dict4=dict1[i].copy()\n",
    "        dict5=dict2[i].copy()\n",
    "        for j in dict5.keys():\n",
    "            list1[2].append({j:dict4[j]})\n",
    "            list1[2].append({j:dict5[j]})\n",
    "        list1[0]=i\n",
    "        list1[1]=dict3[i]\n",
    "        list2=list1.copy()\n",
    "        list2[2]=list1[2].copy()\n",
    "        list1[2].clear()\n",
    "        data[2].append(list2)       \n",
    "    return data"
   ]
  },
  {
   "cell_type": "code",
   "execution_count": 136,
   "metadata": {},
   "outputs": [
    {
     "name": "stdout",
     "output_type": "stream",
     "text": [
      "[['Blue', 12075, 11830, 11573, 12202, 11698, 12315, 11691], ['Red', 12299, 11833, 11787, 11560, 12183, 11836, 12242], ['Orange', 11997, 12093, 12070, 12161, 12077, 11909, 12353], ['Violet', 11831, 11376, 11294, 12441, 11782, 11937, 12051], ['Green', 12367, 12443, 11649, 12083, 11851, 12157, 12045], ['Yellow', 12125, 11538, 12388, 12069, 11988, 12128, 12373], ['Indigo', 11573, 11475, 11781, 12028, 11555, 11881, 11425]]\n"
     ]
    }
   ],
   "source": [
    "months=['June', 'July', 'January', 'March']\n",
    "centres=['Mumbai','Patna','Jaipur','Ranchi', 'Bangalore', 'Hyderabad', 'Delhi']\n",
    "filter='Color'\n",
    "year=['2012','2011','2014']\n",
    "role='Weaver'\n",
    "filter2='centre'\n",
    "\n",
    "# print(newfun(role,filter,filter2,centres,months,year))\n",
    "data = newfun(role,filter,filter2,centres,months,year)\n",
    "Data = data[2]\n",
    "# print(Data)\n",
    "# print(data)\n",
    "formData = {}\n",
    "formData['Colors'] = [\"Blue\", \"Red\", \"Orange\", \"Violet\", \"Green\", \"Yellow\", \"Indigo\"]\n",
    "l = []\n",
    "for col in formData['Colors']:\n",
    "                flag = 0\n",
    "                L =[]\n",
    "                L.append(col)\n",
    "                Data = data[2]\n",
    "                for j in Data:\n",
    "                    k = j[2]\n",
    "                    for h in k:\n",
    "                        try:\n",
    "                            if h[col]:\n",
    "                                if flag==1:\n",
    "                                    L.append(h[col])\n",
    "                                    flag = 0\n",
    "                                else:\n",
    "                                    flag = 1\n",
    "                        except:\n",
    "                            pass\n",
    "                l.append(L)\n",
    "print(l)\n"
   ]
  },
  {
   "cell_type": "code",
   "execution_count": 225,
   "metadata": {},
   "outputs": [
    {
     "name": "stdout",
     "output_type": "stream",
     "text": [
      "Art silk\n",
      "Chanderi cotton\n",
      "Cotton linen\n",
      "Bhagalpuri\n",
      "Cotton voile\n",
      "Bagru\n",
      "Accessories\n",
      "Cotton tant\n",
      "Banarasi\n"
     ]
    },
    {
     "data": {
      "text/plain": [
       "[['Type', 'March'],\n",
       " [['Art silk', 610],\n",
       "  ['Chanderi cotton', 614],\n",
       "  ['Cotton linen', 610],\n",
       "  ['Bhagalpuri', 521],\n",
       "  ['Cotton voile', 656],\n",
       "  ['Bagru', 658],\n",
       "  ['Accessories', 527],\n",
       "  ['Cotton tant', 661],\n",
       "  ['Banarasi', 567],\n",
       "  ['Asilkrt ', 1]]]"
      ]
     },
     "execution_count": 225,
     "metadata": {},
     "output_type": "execute_result"
    }
   ],
   "source": [
    "# print(g['Art silk*Fusing*Checks*Violet'])\n",
    "# print(g.nodes['Art silk*Fusing*Checks*Violet'])\n",
    "months=['March']\n",
    "centres=[\"Agra\"]\n",
    "filter1='Type'\n",
    "years=['2011']\n",
    "role='Retailer'\n",
    "filter2='Month'\n",
    "def stat(filter1, filter2, role, centres, months, years):\n",
    "    head = [filter1]\n",
    "    res = {}\n",
    "    filter = months\n",
    "    if role == 'Weaver':\n",
    "        rel = 'SoldIn'\n",
    "        qnty = 'w_quantity'\n",
    "        month = 'w_month'\n",
    "        year = 'w_year'\n",
    "        centre = 'w_centre'\n",
    "    else:\n",
    "        rel = 'BoughtIn'\n",
    "        qnty = 'r_quantity'\n",
    "        month = 'r_month'\n",
    "        year = 'r_year'\n",
    "        centre = 'r_centre'\n",
    "    if filter2 == 'Month':\n",
    "        filter = months\n",
    "        filter2 = month\n",
    "    elif filter2 == 'Centre':\n",
    "        filter = centres\n",
    "        filter2 = centre\n",
    "    elif filter2 == 'Year':\n",
    "        filter = years\n",
    "        filter2 = year\n",
    "    if filter1 == 'Color':\n",
    "        index = 3\n",
    "    elif filter1 == 'Border':\n",
    "        index = 2\n",
    "    elif filter1 == 'Category':\n",
    "        index = 1\n",
    "    else:\n",
    "        index = 0\n",
    "    for i in filter:\n",
    "        head.append(i)\n",
    "    data = [head]\n",
    "    for mon in months:\n",
    "        for pdt in g[mon].keys():\n",
    "            # print(g[mon][pdt],\"\\n\\n\")\n",
    "            for i in g[mon][pdt].keys():\n",
    "                tran = g[mon][pdt][i]\n",
    "                if tran['relation'] == rel and tran[year] in years and tran[centre] in centres:\n",
    "                    s = pdt.split('*')[index]\n",
    "                    # if s == 'Asilkrt':\n",
    "                    #     print(tran)\n",
    "                    try:\n",
    "                        res[s]\n",
    "                        try:\n",
    "                            res[s][tran[filter2]] += int(tran[qnty])\n",
    "                        except:\n",
    "                            res[s][tran[filter2]] = int(tran[qnty])\n",
    "                    except:\n",
    "                        \n",
    "                        res[s] = {tran[filter2]: int(tran[qnty])}\n",
    "    body = []\n",
    "    for i in res.keys():\n",
    "        l = []\n",
    "        l.append(i)\n",
    "        for j in filter:\n",
    "            try:\n",
    "                l.append(res[i][j])\n",
    "            except:\n",
    "                l.append(0)\n",
    "        body.append(l)\n",
    "    data.append(body)\n",
    "    # print(data)\n",
    "    return data\n",
    "stat(filter1, filter2, role, centres, months, years)   "
   ]
  },
  {
   "cell_type": "code",
   "execution_count": 154,
   "metadata": {},
   "outputs": [],
   "source": [
    "def product(filter,type,category,border,color):\n",
    "    dict1={}\n",
    "    row=[]\n",
    "    row2=[]\n",
    "    table=[]\n",
    "    table2=[]\n",
    "    prod=[]\n",
    "    for i in type:\n",
    "        for j in g[i].keys():\n",
    "            var1=j.split('*')\n",
    "            if var1[0] in category and var1[2] in border and var1[3] in color:\n",
    "                for item in g[j].keys():\n",
    "                    if item.isnumeric():\n",
    "                        for item2 in g[j][item].keys():\n",
    "                            if g[j][item][item2]['relation']=='SoldBy':\n",
    "                                if g[j][item][item2]['w_centre'] not in dict1.keys():\n",
    "                                    tup2={g[j][item][item2]['w_centre'] : {}}\n",
    "                                    dict1.update(tup2)\n",
    "                                if j not in prod:\n",
    "                                    prod.append(j)\n",
    "                                if j in dict1[g[j][item][item2]['w_centre']].keys():\n",
    "                                    dict1[g[j][item][item2]['w_centre']][j]+=int(g[j][item][item2]['w_quantity'])\n",
    "                                else:\n",
    "                                    temp3={j : int(g[j][item][item2]['w_quantity'])}\n",
    "                                    dict1[g[j][item][item2]['w_centre']].update(temp3)\n",
    "                            elif g[j][item][item2]['relation']=='BoughtBy':\n",
    "                                if g[j][item][item2]['r_centre'] not in dict1.keys():\n",
    "                                    tup2={g[j][item][item2]['r_centre'] : {}}\n",
    "                                    dict1.update(tup2)\n",
    "                                if j not in prod:\n",
    "                                    prod.append(j)\n",
    "                                if j in dict1[g[j][item][item2]['r_centre']].keys():\n",
    "                                    dict1[g[j][item][item2]['r_centre']][j]-=int(g[j][item][item2]['r_quantity'])\n",
    "                                else:\n",
    "                                    temp3={j : -int(g[j][item][item2]['r_quantity'])}\n",
    "                                    dict1[g[item][item2]['r_centre']].update(temp3)\n",
    "    head=['Type','Category','Border','Color']\n",
    "    for items in dict1.keys():\n",
    "        head.append(items)\n",
    "    table.append(head)\n",
    "    for i in range(len(prod)):\n",
    "        tup={prod[i] : int(g.nodes[prod[i]]['Stock'])}\n",
    "        table2.append(tup)\n",
    "        var=prod[i].split('*')\n",
    "        for j in range(4):\n",
    "            row.append(var[j])\n",
    "        for item2 in dict1.keys():\n",
    "            if prod[i] in dict1[item2].keys():\n",
    "                row.append(abs(dict1[item2][prod[i]]))\n",
    "            else:\n",
    "                row.append(0)\n",
    "        row2=row.copy()\n",
    "        table.append(row2)\n",
    "        row.clear()\n",
    "    if filter=='split':\n",
    "        return table\n",
    "    else:\n",
    "        return table2"
   ]
  },
  {
   "cell_type": "code",
   "execution_count": 213,
   "metadata": {},
   "outputs": [],
   "source": [
    "def product(filter,type,category,border,color):\n",
    "    dict1={}\n",
    "    row=[]\n",
    "    row2=[]\n",
    "    table=[]\n",
    "    table2=[]\n",
    "    prod=[]\n",
    "    for i in type:\n",
    "        for j in g[i].keys():\n",
    "            var1=j.split('*')\n",
    "            if var1[1] in category and var1[2] in border and var1[3] in color:\n",
    "                for item in g[j].keys():\n",
    "                    if item.isnumeric():\n",
    "                        for item2 in g[j][item].keys():\n",
    "                            if g[j][item][item2]['relation']=='SoldBy':\n",
    "                                if g[j][item][item2]['w_centre'] not in dict1.keys():\n",
    "                                    tup2={g[j][item][item2]['w_centre'] : {}}\n",
    "                                    dict1.update(tup2)\n",
    "                                if j not in prod:\n",
    "                                    prod.append(j)\n",
    "                                if j in dict1[g[j][item][item2]['w_centre']].keys():\n",
    "                                    dict1[g[j][item][item2]['w_centre']][j]+=int(g[j][item][item2]['w_quantity'])\n",
    "                                else:\n",
    "                                    temp3={j : int(g[j][item][item2]['w_quantity'])}\n",
    "                                    dict1[g[j][item][item2]['w_centre']].update(temp3)\n",
    "                            elif g[j][item][item2]['relation']=='BoughtBy':\n",
    "                                if g[j][item][item2]['r_centre'] not in dict1.keys():\n",
    "                                    tup2={g[j][item][item2]['r_centre'] : {}}\n",
    "                                    dict1.update(tup2)\n",
    "                                if j not in prod:\n",
    "                                    prod.append(j)\n",
    "                                if j in dict1[g[j][item][item2]['r_centre']].keys():\n",
    "                                    dict1[g[j][item][item2]['r_centre']][j]-=int(g[j][item][item2]['r_quantity'])\n",
    "                                else:\n",
    "                                    temp3={j : -int(g[j][item][item2]['r_quantity'])}\n",
    "                                    dict1[g[item][item2]['r_centre']].update(temp3)\n",
    "    head=['Type','Category','Border','Color']\n",
    "    for items in dict1.keys():\n",
    "        head.append(items)\n",
    "    table.append(head)\n",
    "    for i in range(len(prod)):\n",
    "        tup={prod[i] : int(g.nodes[prod[i]]['Stock'])}\n",
    "        table2.append(tup)\n",
    "        var=prod[i].split('*')\n",
    "        for j in range(4):\n",
    "            row.append(var[j])\n",
    "        for item2 in dict1.keys():\n",
    "            if prod[i] in dict1[item2].keys():\n",
    "                row.append(abs(dict1[item2][prod[i]]))\n",
    "            else:\n",
    "                row.append(0)\n",
    "        row2=row.copy()\n",
    "        table.append(row2)\n",
    "        row.clear()\n",
    "    if filter=='split':\n",
    "        return table\n",
    "    else:\n",
    "        data = [[\"Type\", \"Category\", \"Border\", \"Color\", \"Stock\"]]\n",
    "        for i in table2:\n",
    "            j = list(i.keys())[0].split(\"*\")\n",
    "            j.append(list(i.values())[0])\n",
    "            data.append(j)\n",
    "        return data"
   ]
  },
  {
   "cell_type": "code",
   "execution_count": 218,
   "metadata": {},
   "outputs": [
    {
     "name": "stdout",
     "output_type": "stream",
     "text": [
      "[['Type', 'Category', 'Border', 'Color', 'Kolkata', 'Ahmedabad', 'Mumbai', 'Agra', 'Jaipur', 'Patna', 'Bangalore', 'Chennai', 'Delhi', 'Hyderabad', 'Ranchi', 'Lucknow'], ['Accessories', 'Beads', 'Checks', 'Red', 3, 26, 18, 3, 0, 52, 63, 5, 25, 78, 5, 61]]\n"
     ]
    }
   ],
   "source": [
    "type_list1=[\"Accessories\"]\n",
    "category_list1=['Beads']\n",
    "border_list1=['Checks']\n",
    "color_list1=['Red']\n",
    "filter='split'\n",
    "data = product(filter,type_list1,category_list1,border_list1,color_list1)\n",
    "print(data)"
   ]
  }
 ],
 "metadata": {
  "interpreter": {
   "hash": "31f2aee4e71d21fbe5cf8b01ff0e069b9275f58929596ceb00d14d90e3e16cd6"
  },
  "kernelspec": {
   "display_name": "Python 3.8.9 64-bit",
   "language": "python",
   "name": "python3"
  },
  "language_info": {
   "codemirror_mode": {
    "name": "ipython",
    "version": 3
   },
   "file_extension": ".py",
   "mimetype": "text/x-python",
   "name": "python",
   "nbconvert_exporter": "python",
   "pygments_lexer": "ipython3",
   "version": "3.8.9"
  },
  "orig_nbformat": 4
 },
 "nbformat": 4,
 "nbformat_minor": 2
}
