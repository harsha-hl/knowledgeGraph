{
 "cells": [
  {
   "cell_type": "code",
   "execution_count": 2,
   "metadata": {},
   "outputs": [],
   "source": [
    "import os \n",
    "import csv\n",
    "import networkx as nx\n",
    "g = nx.MultiGraph()\n",
    "\n",
    "transactionCount = 0\n",
    "path = os.getcwd() + \"/random_data_2.csv\"\n",
    "with open(path, encoding='utf-8-sig') as file:\n",
    "    data = csv.DictReader(file)\n",
    "    for row in data:\n",
    "        # print(row)\n",
    "        transactionCount += 1\n",
    "\n",
    "        # Weaver_id,Role,Quantity,Type,Category,border,color,season,Centre,Rating    -    Column headers\n",
    "        s = row['Type'] + \"*\" + row['Category'] + \"*\" + row['border'] + \"*\" + row['color']\n",
    "\n",
    "        try:\n",
    "            # Check if product node G[s] already exists.If yes, proceed otherwise go to except block\n",
    "            g[s]\n",
    "            # If yes, increment stock by the quantity that the weaver sold to company\n",
    "            g.nodes[s]['Stock'] += int(row['Quantity'])\n",
    "\n",
    "        except:\n",
    "            # Key error which means product node G[s] couldn't be found\n",
    "            g.add_node(s, Stock=int(row['Quantity']))\n",
    "            g.add_edges_from([(s,row['Type']),(s,row['Category']),(s,row['border']),(s,row['color'])])\n",
    "\n",
    "        # Link weaver with product with details of product as edge attributes\n",
    "        g.add_edge(row['Weaver_id'], s, w_id=row['Weaver_id'] ,quantity=row['Quantity'], month=row['season'], centre=row['Centre'], rating=row['Rating'])\n",
    "        g.add_edge(row['season'], s, w_id=row['Weaver_id'] ,quantity=row['Quantity'], month=row['season'], centre=row['Centre'], rating=row['Rating'])\n",
    "        # g.add_edge(row['Centre'], s, w_id=row['Weaver_id'] ,quantity=row['Quantity'], month=row['season'], centre=row['Centre'], rating=row['Rating'])\n",
    "        # g.add_edge(row['Rating'], s, w_id=row['Weaver_id'] ,quantity=row['Quantity'], month=row['season'], centre=row['Centre'], rating=row['Rating'])\n",
    "#         if transactionCount == 1:\n",
    "#             break\n",
    "# print(transactionCount)\n",
    "# print(g['Accessories'])\n",
    "# print(\"sds\")\n",
    "# print(g.nodes[s])\n",
    "# nx.draw(g, with_labels=True)"
   ]
  },
  {
   "cell_type": "code",
   "execution_count": 89,
   "metadata": {},
   "outputs": [],
   "source": [
    "# Using pickle to store the graph and can be later loaded into another variable 'g'\n",
    "import pickle, os\n",
    "path = os.getcwd() + \"/Graph1.txt\"\n",
    "# Uncomment below line to store graph\n",
    "pickle.dump(g, open(path, 'wb'))"
   ]
  },
  {
   "cell_type": "code",
   "execution_count": 90,
   "metadata": {},
   "outputs": [],
   "source": [
    "# By loading the graph, we may only add new transactions to existing graph\n",
    "# Uncomment below line to load teh graph\n",
    "g = pickle.load(open(path,'rb'))"
   ]
  },
  {
   "cell_type": "markdown",
   "metadata": {},
   "source": [
    "# Find the current stock of any product available with the company"
   ]
  },
  {
   "cell_type": "code",
   "execution_count": 6,
   "metadata": {},
   "outputs": [
    {
     "name": "stdout",
     "output_type": "stream",
     "text": [
      "1834\n"
     ]
    }
   ],
   "source": [
    "# Find the current stock of any product available with the company\n",
    "\n",
    "def findStock(ty=\"\",cat=\"\",bor=\"\",col=\"\"):\n",
    "    if ty==\"\" and cat==\"\" and bor==\"\" and col==\"\":\n",
    "        print(\"Atleast one attribute/filter must be specified\")\n",
    "    else:\n",
    "        count = 0\n",
    "\n",
    "        \n",
    "        if ty!=\"\":\n",
    "            d = g[ty]\n",
    "        elif cat!=\"\":\n",
    "            d = g[cat]\n",
    "        elif bor!=\"\":\n",
    "            d = g[bor]\n",
    "        else:\n",
    "            d = g[col]\n",
    "\n",
    "        for i in d.keys():\n",
    "            if str(i).find(ty) != -1 and str(i).find(cat) != -1 and str(i).find(bor) != -1 and str(i).find(col) != -1:\n",
    "                count += g.nodes[i]['Stock']\n",
    "                # print(i)\n",
    "                # print(g[i])\n",
    "        print(count)\n",
    "\n",
    "# Pass the category, type, border and color to this function to get back the available stock for that product\n",
    "\n",
    "# findStock(type, category, border, color)\n",
    "findStock(\"Accessories\",\"Bermuda\",\"Golden-Zari\",\"Blue\")"
   ]
  },
  {
   "cell_type": "code",
   "execution_count": 21,
   "metadata": {},
   "outputs": [
    {
     "name": "stdout",
     "output_type": "stream",
     "text": [
      "16324\n"
     ]
    }
   ],
   "source": [
    "# To verify that the above query is answered correctly, we can verify using the following code which performs a linear search\n",
    "# over all records and returns the stock by summing up the quantity of that transaction\n",
    "\n",
    "with open('random_data_2.csv', encoding='utf-8-sig') as file:\n",
    "    c = 0\n",
    "    data = csv.DictReader(file)\n",
    "    for row in data:\n",
    "        if row['Category'] == \"Bluse\" and row['Type'] == \"Bagru\" and row['border'] == \"Floral\" and row['color'] == \"Green\":\n",
    "            c += int(row['Quantity'])\n",
    "print(c)"
   ]
  },
  {
   "cell_type": "markdown",
   "metadata": {},
   "source": [
    "# List all transactions made between a particular weaver and the company."
   ]
  },
  {
   "cell_type": "code",
   "execution_count": 22,
   "metadata": {},
   "outputs": [
    {
     "name": "stdout",
     "output_type": "stream",
     "text": [
      "{0: {'w_id': '2200003', 'quantity': '5', 'month': 'April', 'centre': 'Mumbai', 'rating': '4s'}}\n",
      "{0: {'w_id': '2200003', 'quantity': '7', 'month': 'October', 'centre': 'Mumbai', 'rating': '5s'}}\n",
      "{0: {'w_id': '2200003', 'quantity': '7', 'month': 'November', 'centre': 'Hyderabad', 'rating': '2s'}}\n",
      "{0: {'w_id': '2200003', 'quantity': '6', 'month': 'October', 'centre': 'Mumbai', 'rating': '2s'}}\n",
      "{0: {'w_id': '2200003', 'quantity': '2', 'month': 'March', 'centre': 'Hyderabad', 'rating': '3s'}}\n",
      "{0: {'w_id': '2200003', 'quantity': '10', 'month': 'November', 'centre': 'Hyderabad', 'rating': '4s'}}\n",
      "{0: {'w_id': '2200003', 'quantity': '10', 'month': 'September', 'centre': 'Hyderabad', 'rating': '2s'}}\n",
      "Number of transactions made by weaver with id 2200003 is :  7\n"
     ]
    },
    {
     "data": {
      "image/png": "[encoded data removed]",
      "text/plain": [
       "<Figure size 432x288 with 1 Axes>"
      ]
     },
     "metadata": {},
     "output_type": "display_data"
    }
   ],
   "source": [
    "# List all transactions made between a particular weaver and the company.\n",
    "P = nx.MultiGraph()\n",
    "def a(id):\n",
    "    count = 0\n",
    "    for i in g[id].keys():\n",
    "        count += 1\n",
    "        print(g[id][i])\n",
    "        l = str(i).split(\"*\")\n",
    "        P.add_edges_from([(id,i),(i,l[0]),(i,l[1]),(i,l[2]),(i,l[3])])\n",
    "    print(\"Number of transactions made by weaver with id\",id,\"is : \",count)\n",
    "\n",
    "# Pass any weaver id to get the list of transactions between them and the company        \n",
    "a(\"2200003\")\n",
    "\n",
    "# Plots the subgraph used to answer this query\n",
    "nx.draw(P,with_labels=True)\n"
   ]
  },
  {
   "cell_type": "markdown",
   "metadata": {},
   "source": [
    "# Fetch transaction details based on month / center / rating of product."
   ]
  },
  {
   "cell_type": "code",
   "execution_count": 120,
   "metadata": {},
   "outputs": [
    {
     "name": "stdout",
     "output_type": "stream",
     "text": [
      "Yess\n",
      "{'w_id': '2221912', 'quantity': '8', 'month': 'September', 'centre': 'Bangalore', 'rating': '1s', 'pdt': 'Accessories*Cutting Roll*Golden-Zari*Yellow'}\n",
      "{'w_id': '2221912', 'quantity': '1', 'month': 'July', 'centre': 'Mumbai', 'rating': '2s', 'pdt': 'Cotton-linen*Bluse*Checks*Blue'}\n",
      "{'w_id': '2221912', 'quantity': '6', 'month': 'July', 'centre': 'Mumbai', 'rating': '5s', 'pdt': 'Bhagalpuri*Bluse*Golden-Zari*Violet'}\n",
      "{'w_id': '2221912', 'quantity': '8', 'month': 'November', 'centre': 'Mumbai', 'rating': '3s', 'pdt': 'Cotton-voile*Crochet Lace*Checks*Orange'}\n",
      "{'w_id': '2221912', 'quantity': '3', 'month': 'May', 'centre': 'Hyderabad', 'rating': '4s', 'pdt': 'Cotton-linen*AC Blanket(DOHAR)*Lines*Orange'}\n",
      "{'w_id': '2221912', 'quantity': '6', 'month': 'August', 'centre': 'Hyderabad', 'rating': '3s', 'pdt': 'Bagru*Cutting Roll*Lines*Blue'}\n",
      "{'w_id': '2221912', 'quantity': '7', 'month': 'November', 'centre': 'Bangalore', 'rating': '1s', 'pdt': 'Bagru*Chiffon*Lines*Green'}\n",
      "{'w_id': '2245035', 'quantity': '8', 'month': 'November', 'centre': 'Hyderabad', 'rating': '1s', 'pdt': 'Cotton-voile*Crochet Lace*Floral*Blue'}\n",
      "{'w_id': '2245035', 'quantity': '2', 'month': 'November', 'centre': 'Bangalore', 'rating': '3s', 'pdt': 'Chanderi-cotton*AC Blanket(DOHAR)*Floral*Yellow'}\n",
      "{'w_id': '2245035', 'quantity': '9', 'month': 'November', 'centre': 'Bangalore', 'rating': '2s', 'pdt': 'Cotton-voile*Fusing*Golden-Zari*Yellow'}\n",
      "{'w_id': '2245035', 'quantity': '2', 'month': 'April', 'centre': 'Hyderabad', 'rating': '2s', 'pdt': 'Cotton-linen*Chiffon*Lines*Orange'}\n",
      "{'w_id': '2245035', 'quantity': '6', 'month': 'May', 'centre': 'Mumbai', 'rating': '4s', 'pdt': 'Accessories*Chiffon*Floral*Indigo'}\n",
      "{'w_id': '2245035', 'quantity': '10', 'month': 'November', 'centre': 'Hyderabad', 'rating': '3s', 'pdt': 'Art-silk*Bedsheet*Golden-Zari*Indigo'}\n",
      "{'w_id': '2245035', 'quantity': '6', 'month': 'December', 'centre': 'Mumbai', 'rating': '4s', 'pdt': 'Bhagalpuri*Fusing*Checks*Yellow'}\n",
      "{'w_id': '2245035', 'quantity': '10', 'month': 'April', 'centre': 'Mumbai', 'rating': '2s', 'pdt': 'Bagru*Fusing*Golden-Zari*Yellow'}\n",
      "{'w_id': '2245035', 'quantity': '5', 'month': 'February', 'centre': 'Hyderabad', 'rating': '1s', 'pdt': 'Banarasi*Bluse*Checks*Blue'}\n",
      "16\n"
     ]
    }
   ],
   "source": [
    "def transactions(months, centres, ratings, wids):\n",
    "    count = 0\n",
    "\n",
    "    if wids:\n",
    "        print(\"Yess\")\n",
    "        for wid in wids:\n",
    "            for pdt in g[wid].keys():\n",
    "                for index in g[wid][pdt].keys():\n",
    "                    transaction = g[wid][pdt][index].copy()\n",
    "                    if transaction['month'] in months and transaction['centre'] in centres and transaction['rating'] in ratings:\n",
    "                        transaction['pdt'] = pdt\n",
    "                        print(transaction)\n",
    "                        count += 1\n",
    "\n",
    "    else:\n",
    "        print(\"NO\")\n",
    "        for mon in months:\n",
    "            # print(g[mon])\n",
    "            for pdt in g[mon].keys():\n",
    "                # print(pdt)\n",
    "                for index in g[mon][pdt].keys():\n",
    "                    transaction = g[mon][pdt][index].copy()\n",
    "                    if transaction['centre'] in centres and transaction['rating'] in ratings:\n",
    "                        transaction['pdt'] = pdt\n",
    "                        print(transaction)\n",
    "                        # print(g[mon][pdt][index])\n",
    "                        count += 1\n",
    "\n",
    "    print(count)\n",
    "\n",
    "    \n",
    "transactions([\"January\", \"February\", \"March\", \"April\", \"May\", \"June\", \"July\", \"August\", \"September\", \"October\", \"November\", \"December\"],[\"Bangalore\", \"Hyderabad\", \"Mumbai\"],[\"1s\", \"2s\", \"3s\", \"4s\", \"5s\"],['2221912', '2245035'])\n",
    "# 141\n"
   ]
  },
  {
   "cell_type": "code",
   "execution_count": 1,
   "metadata": {},
   "outputs": [
    {
     "name": "stdout",
     "output_type": "stream",
     "text": [
      "{'wrf': 43, 'asssa': 33, 'rwrw': 22, 'qqq': 20, 'erer': 5}\n",
      "['wrf', 'asssa', 'rwrw', 'qqq']\n",
      "30\n"
     ]
    }
   ],
   "source": [
    "top={\n",
    "    'wid':[],\n",
    "    'q_wid':[],\n",
    "    'pdt':[],\n",
    "    'q_pdt':[]\n",
    "}\n",
    "x={'wrf':43, 'rwrw':22, 'asssa':33, 'erer': 5, 'qqq': 20}\n",
    "x={k: v for k, v in sorted(x.items(), key=lambda item: item[1], reverse=True)}\n",
    "print(x)\n",
    "top['wid'] =  (list(x.keys()))[:4]\n",
    "print(top['wid'])\n",
    "try:\n",
    "    x['qqq'] += 10\n",
    "    print(x['qqq'])\n",
    "except:\n",
    "    x['qqq'] = 10\n",
    "    print(x['qqq'])\n"
   ]
  },
  {
   "cell_type": "code",
   "execution_count": 21,
   "metadata": {},
   "outputs": [
    {
     "name": "stdout",
     "output_type": "stream",
     "text": [
      "[2, [{'Accessories*Bermuda*Golden-Zari*Red': 1808}, {'Accessories*Bermuda*Golden-Zari*Blue': 1834}], 3642]\n"
     ]
    },
    {
     "ename": "TypeError",
     "evalue": "'DictReader' object is not subscriptable",
     "output_type": "error",
     "traceback": [
      "\u001b[0;31m---------------------------------------------------------------------------\u001b[0m",
      "\u001b[0;31mTypeError\u001b[0m                                 Traceback (most recent call last)",
      "\u001b[1;32m/Users/harshahl/Documents/knowledgeGraph/django/myworld/members/graph.ipynb Cell 12'\u001b[0m in \u001b[0;36m<cell line: 18>\u001b[0;34m()\u001b[0m\n\u001b[1;32m     <a href='vscode-notebook-cell:/Users/harshahl/Documents/knowledgeGraph/django/myworld/members/graph.ipynb#ch0000012?line=15'>16</a>\u001b[0m     \u001b[39mreturn\u001b[39;00m data\n\u001b[1;32m     <a href='vscode-notebook-cell:/Users/harshahl/Documents/knowledgeGraph/django/myworld/members/graph.ipynb#ch0000012?line=16'>17</a>\u001b[0m \u001b[39mprint\u001b[39m(products([\u001b[39m\"\u001b[39m\u001b[39mAccessories\u001b[39m\u001b[39m\"\u001b[39m],[\u001b[39m\"\u001b[39m\u001b[39mBermuda\u001b[39m\u001b[39m\"\u001b[39m],[\u001b[39m\"\u001b[39m\u001b[39mGolden-Zari\u001b[39m\u001b[39m\"\u001b[39m],[\u001b[39m\"\u001b[39m\u001b[39mBlue\u001b[39m\u001b[39m\"\u001b[39m, \u001b[39m\"\u001b[39m\u001b[39mRed\u001b[39m\u001b[39m\"\u001b[39m]))\n\u001b[0;32m---> <a href='vscode-notebook-cell:/Users/harshahl/Documents/knowledgeGraph/django/myworld/members/graph.ipynb#ch0000012?line=17'>18</a>\u001b[0m \u001b[39mprint\u001b[39m(data[\u001b[39m2\u001b[39;49m])\n",
      "\u001b[0;31mTypeError\u001b[0m: 'DictReader' object is not subscriptable"
     ]
    }
   ],
   "source": [
    "def products(types,categories,borders,colors):\n",
    "    data=[0,[], 0]\n",
    "    for type in types:\n",
    "        for product in g[type].keys():\n",
    "            names=product.split('*')\n",
    "            for item4 in categories:\n",
    "                if names[1]==item4:\n",
    "                    for item5 in borders:\n",
    "                        if names[2]==item5:\n",
    "                            for item6 in colors:\n",
    "                                if names[3]==item6:\n",
    "                                    temp={product : g.nodes[product]['Stock']}\n",
    "                                    data[0]+=1\n",
    "                                    data[1].append(temp)\n",
    "                                    data[2]+= g.nodes[product]['Stock']\n",
    "    return data\n",
    "print(products([\"Accessories\"],[\"Bermuda\"],[\"Golden-Zari\"],[\"Blue\", \"Red\"]))\n",
    "print(data[2])"
   ]
  },
  {
   "cell_type": "markdown",
   "metadata": {},
   "source": [
    "# AFTER MOM 4"
   ]
  },
  {
   "cell_type": "code",
   "execution_count": 30,
   "metadata": {},
   "outputs": [],
   "source": [
    "#Weavers\n",
    "import os \n",
    "import csv\n",
    "import networkx as nx\n",
    "g = nx.MultiGraph()\n",
    "\n",
    "transactionCount = 0\n",
    "path = os.getcwd() + \"/weaverdata.csv\"\n",
    "with open(path, encoding='utf-8-sig') as file:\n",
    "    data = csv.DictReader(file)\n",
    "    for row in data:\n",
    "        # print(row)\n",
    "        transactionCount += 1\n",
    "        if transactionCount == 100000:\n",
    "            break\n",
    "        # Weaver_id,Role,Quantity,Type,Category,border,color,season,Centre,Rating    -    Column headers\n",
    "        s = row['Type'] + \"*\" + row['Category'] + \"*\" + row['Border'] + \"*\" + row['Color']\n",
    "\n",
    "        try:\n",
    "            # Check if product node G[s] already exists.If yes, proceed otherwise go to except block\n",
    "            g[s]\n",
    "            # If yes, increment stock by the quantity that the weaver sold to company\n",
    "            g.nodes[s]['Stock'] += int(row['Quantity'])\n",
    "\n",
    "        except:\n",
    "            # Key error which means product node G[s] couldn't be found\n",
    "            g.add_node(s, Stock=int(row['Quantity']))\n",
    "            g.add_edges_from([(s,row['Type']),(s,row['Category']),(s,row['Border']),(s,row['Color'])])\n",
    "\n",
    "        # Link weaver with product with details of product as edge attributes\n",
    "        g.add_edge(row['Weaver_id'], s, w_id=row['Weaver_id'] ,w_quantity=row['Quantity'], w_month=row['Month'], w_year=row['Year'], w_region=row['Region'], w_centre=row['Centre'], w_rating=row['Rating'],w_cost=row['Cost'], relation='SoldBy')\n",
    "        g.add_edge(row['Month'], s, w_id=row['Weaver_id'] ,w_quantity=row['Quantity'], w_month=row['Month'], w_year=row['Year'], w_region=row['Region'], w_centre=row['Centre'], w_rating=row['Rating'],w_cost=row['Cost'], relation='SoldIn')"
   ]
  },
  {
   "cell_type": "code",
   "execution_count": 31,
   "metadata": {},
   "outputs": [],
   "source": [
    "# Retailers\n",
    "path = os.getcwd() + \"/NewData.csv\"\n",
    "with open(path, encoding='utf-8-sig') as file:\n",
    "    data = csv.DictReader(file)\n",
    "    for row in data:\n",
    "        # print(row)\n",
    "        transactionCount += 1\n",
    "        if transactionCount == 100000:\n",
    "            break\n",
    "        # Weaver_id,Role,Quantity,Type,Category,border,color,season,Centre,Rating    -    Column headers\n",
    "        s = row['Type'] + \"*\" + row['Category'] + \"*\" + row['Border'] + \"*\" + row['Color']\n",
    "\n",
    "        try:\n",
    "            # Check if product node G[s] already exists.If yes, proceed otherwise go to except block\n",
    "            g[s]\n",
    "            # If yes, increment stock by the quantity that the weaver sold to company\n",
    "            g.nodes[s]['Stock'] -= int(row['Quantity'])\n",
    "\n",
    "        except:\n",
    "            # Key error which means product node G[s] couldn't be found\n",
    "            g.add_node(s, Stock=int(row['Quantity']))\n",
    "            # g.add_edges_from([(s,row['Type']),(s,row['Category']),(s,row['Border']),(s,row['Color'])])\n",
    "\n",
    "        # Link weaver with product with details of product as edge attributes\n",
    "        g.add_edge(row['Retailer_id'], s, r_id=row['Retailer_id'] ,r_quantity=row['Quantity'], r_r_month=row['Month'], r_year=row['Year'], r_region=row['Region'], r_centre=row['Centre'], r_rating=row['Rating'],r_cost=row['Cost'], relation='BoughtBy')\n",
    "        g.add_edge(row['Month'], s, r_id=row['Retailer_id'] ,r_quantity=row['Quantity'], r_month=row['Month'], r_year=row['Year'], r_region=row['Region'], r_centre=row['Centre'], r_rating=row['Rating'],r_cost=row['Cost'],relation='BoughtIn')"
   ]
  },
  {
   "cell_type": "code",
   "execution_count": 32,
   "metadata": {},
   "outputs": [],
   "source": [
    "import pickle, os\n",
    "path = os.getcwd() + \"/Graph1.txt\"\n",
    "# Uncomment below line to store graph\n",
    "pickle.dump(g, open(path, 'wb'))"
   ]
  },
  {
   "cell_type": "code",
   "execution_count": 33,
   "metadata": {},
   "outputs": [],
   "source": [
    "g = pickle.load(open(path,'rb'))"
   ]
  },
  {
   "cell_type": "code",
   "execution_count": 34,
   "metadata": {},
   "outputs": [
    {
     "data": {
      "text/plain": [
       "[1, [{'Art silk*Fusing*Checks*Violet': -1208}], -1208]"
      ]
     },
     "execution_count": 34,
     "metadata": {},
     "output_type": "execute_result"
    }
   ],
   "source": [
    "def products(types,categories,borders,colors):\n",
    "    data=[0,[],0]\n",
    "    for type in types:\n",
    "        for product in g[type].keys():\n",
    "            names=product.split('*')\n",
    "            for item4 in categories:\n",
    "                if names[1]==item4:\n",
    "                    for item5 in borders:\n",
    "                        if names[2]==item5:\n",
    "                            for item6 in colors:\n",
    "                                if names[3]==item6:\n",
    "                                    temp={product : g.nodes[product]['Stock']}\n",
    "                                    data[0]+=1\n",
    "                                    data[1].append(temp)\n",
    "                                    data[2]+= g.nodes[product]['Stock']\n",
    "\n",
    "    return data\n",
    "\n",
    "products(['Art silk'],['Fusing'],['Checks'],['Violet'])\n",
    "# print(g.nodes['Art silk*Fusing*Checks*Violet'])"
   ]
  },
  {
   "cell_type": "code",
   "execution_count": 35,
   "metadata": {},
   "outputs": [],
   "source": [
    "def newfun(role,filter,filter2,centre,month,year):\n",
    "    dict1={}\n",
    "    dict2={}\n",
    "    dict3={}\n",
    "    list1=[0,0,[]]\n",
    "    list2=[0,0,[]]\n",
    "    data=[0,0,[]]\n",
    "    if filter=='Type':\n",
    "        q=0\n",
    "    elif filter=='Category':\n",
    "        q=1\n",
    "    elif filter=='Border':\n",
    "        q=2\n",
    "    elif filter=='Color':\n",
    "        q=3\n",
    "\n",
    "    if filter2=='season':\n",
    "        var1='w_month'\n",
    "        var2='r_month'\n",
    "        var3=month\n",
    "        data[0]=0\n",
    "    elif filter2=='centre':\n",
    "        var1='w_centre'\n",
    "        var2='r_centre'\n",
    "        var3=centre\n",
    "        data[0]=1\n",
    "    elif filter2=='year':\n",
    "        var1='w_year'\n",
    "        var2='r_year'\n",
    "        var3=year\n",
    "        data[0]=2\n",
    "    \n",
    "    for elements in var3:\n",
    "        tup={elements : {}}\n",
    "        dict1.update(tup)\n",
    "    for elements in var3:\n",
    "        tup={elements : {}}\n",
    "        dict2.update(tup)\n",
    "    for elements in var3:\n",
    "        tup={elements : 0}\n",
    "        dict3.update(tup)\n",
    "    \n",
    "\n",
    "    \n",
    "    for item in month:\n",
    "        for item2 in g[item].keys():\n",
    "            for item3 in g[item][item2].keys():\n",
    "                if role=='Weaver':\n",
    "                    if g[item][item2][item3]['relation']=='SoldIn' and g[item][item2][item3]['w_centre'] in centre and g[item][item2][item3]['w_year'] in year:\n",
    "                        data[1]+=1\n",
    "                        temp=item2.split('*')\n",
    "                        dict3[g[item][item2][item3][var1]]+=1\n",
    "                        if temp[q] in dict1[g[item][item2][item3][var1]].keys():\n",
    "                            dict1[g[item][item2][item3][var1]][temp[q]]+=1\n",
    "                            dict2[g[item][item2][item3][var1]][temp[q]]+=int(g[item][item2][item3]['w_quantity'])\n",
    "                        else:\n",
    "                            temp3={temp[q] : 1}\n",
    "                            dict1[g[item][item2][item3][var1]].update(temp3)\n",
    "                            temp3={temp[q] : int(g[item][item2][item3]['w_quantity'])}\n",
    "                            dict2[g[item][item2][item3][var1]].update(temp3)\n",
    "                elif role=='Retailer':\n",
    "                    if g[item][item2][item3]['relation']=='BoughtIn' and g[item][item2][item3]['r_centre'] in centre and g[item][item2][item3]['r_year'] in year:\n",
    "                        data[1]+=1\n",
    "                        temp=item2.split('*')\n",
    "                        dict3[g[item][item2][item3][var2]]+=1\n",
    "                        if temp[q] in dict1[g[item][item2][item3][var2]].keys():\n",
    "                            dict1[g[item][item2][item3][var2]][temp[q]]+=1\n",
    "                            dict2[g[item][item2][item3][var2]][temp[q]]+=int(g[item][item2][item3]['r_quantity'])\n",
    "                        else:\n",
    "                            temp3={temp[q] : 1}\n",
    "                            dict1[g[item][item2][item3][var2]].update(temp3)\n",
    "                            temp3={temp[q] : int(g[item][item2][item3]['r_quantity'])}\n",
    "                            dict2[g[item][item2][item3][var2]].update(temp3)\n",
    "            \n",
    "               \n",
    "    for i in dict1.keys():\n",
    "        dict4=dict1[i].copy()\n",
    "        dict5=dict2[i].copy()\n",
    "        for j in dict5.keys():\n",
    "            list1[2].append({j:dict4[j]})\n",
    "            list1[2].append({j:dict5[j]})\n",
    "        list1[0]=i\n",
    "        list1[1]=dict3[i]\n",
    "        list2=list1.copy()\n",
    "        list2[2]=list1[2].copy()\n",
    "        list1[2].clear()\n",
    "        data[2].append(list2)       \n",
    "    return data"
   ]
  },
  {
   "cell_type": "code",
   "execution_count": 36,
   "metadata": {},
   "outputs": [
    {
     "name": "stdout",
     "output_type": "stream",
     "text": [
      "[0, 1728, [['January', 306, [{'Violet': 48}, {'Violet': 259}, {'Blue': 52}, {'Blue': 274}, {'Red': 57}, {'Red': 283}, {'Green': 40}, {'Green': 180}, {'Yellow': 38}, {'Yellow': 222}, {'Indigo': 28}, {'Indigo': 140}, {'Orange': 43}, {'Orange': 227}]], ['May', 288, [{'Indigo': 51}, {'Indigo': 250}, {'Red': 42}, {'Red': 190}, {'Violet': 29}, {'Violet': 171}, {'Yellow': 34}, {'Yellow': 156}, {'Green': 48}, {'Green': 245}, {'Blue': 43}, {'Blue': 250}, {'Orange': 41}, {'Orange': 199}]], ['June', 285, [{'Blue': 47}, {'Blue': 202}, {'Yellow': 38}, {'Yellow': 222}, {'Orange': 41}, {'Orange': 206}, {'Green': 47}, {'Green': 249}, {'Indigo': 45}, {'Indigo': 185}, {'Violet': 31}, {'Violet': 161}, {'Red': 36}, {'Red': 175}]], ['September', 264, [{'Green': 28}, {'Green': 141}, {'Orange': 42}, {'Orange': 195}, {'Indigo': 36}, {'Indigo': 183}, {'Yellow': 39}, {'Yellow': 193}, {'Red': 45}, {'Red': 221}, {'Blue': 33}, {'Blue': 166}, {'Violet': 41}, {'Violet': 183}]], ['November', 247, [{'Yellow': 28}, {'Yellow': 145}, {'Violet': 35}, {'Violet': 196}, {'Blue': 34}, {'Blue': 149}, {'Indigo': 31}, {'Indigo': 130}, {'Orange': 38}, {'Orange': 215}, {'Red': 44}, {'Red': 199}, {'Green': 37}, {'Green': 183}]], ['July', 338, [{'Violet': 45}, {'Violet': 197}, {'Green': 50}, {'Green': 235}, {'Indigo': 44}, {'Indigo': 209}, {'Yellow': 41}, {'Yellow': 186}, {'Blue': 60}, {'Blue': 277}, {'Red': 51}, {'Red': 262}, {'Orange': 47}, {'Orange': 243}]]]]\n"
     ]
    }
   ],
   "source": [
    "months=['January','May','June', 'September', 'November', 'July']\n",
    "centres=['Mumbai']\n",
    "filter='Color'\n",
    "year=['2012','2011']\n",
    "role='Weaver'\n",
    "filter2='season'\n",
    "print(newfun(role,filter,filter2,centres,months,year))"
   ]
  },
  {
   "cell_type": "code",
   "execution_count": null,
   "metadata": {},
   "outputs": [],
   "source": []
  }
 ],
 "metadata": {
  "interpreter": {
   "hash": "31f2aee4e71d21fbe5cf8b01ff0e069b9275f58929596ceb00d14d90e3e16cd6"
  },
  "kernelspec": {
   "display_name": "Python 3.8.9 64-bit",
   "language": "python",
   "name": "python3"
  },
  "language_info": {
   "codemirror_mode": {
    "name": "ipython",
    "version": 3
   },
   "file_extension": ".py",
   "mimetype": "text/x-python",
   "name": "python",
   "nbconvert_exporter": "python",
   "pygments_lexer": "ipython3",
   "version": "3.8.9"
  },
  "orig_nbformat": 4
 },
 "nbformat": 4,
 "nbformat_minor": 2
}
